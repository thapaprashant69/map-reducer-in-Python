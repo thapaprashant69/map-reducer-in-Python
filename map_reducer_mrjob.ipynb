{
 "cells": [
  {
   "cell_type": "code",
   "execution_count": 90,
   "id": "07c05cad",
   "metadata": {},
   "outputs": [
    {
     "name": "stdout",
     "output_type": "stream",
     "text": [
      "Overwriting detail_temperature.py\n"
     ]
    }
   ],
   "source": [
    "%%file detail_temperature.py\n",
    "import re\n",
    "import json\n",
    "\n",
    "from mrjob.job import MRJob\n",
    "QUALITY_RE = re.compile(r\"[01459]\")\n",
    "\n",
    "class DetailTemperature(MRJob):\n",
    "    \n",
    "    def mapper(self, _, line):\n",
    "        val = line.strip()\n",
    "        (direction, q1, temp, q2) = (val[60:63], val[63:64], val[87:92], val[92:93])\n",
    "        if direction != \"999\" and re.match(QUALITY_RE, q1):\n",
    "            if (temp != \"+9999\" and re.match(QUALITY_RE, q2)):\n",
    "                yield int(direction), int(temp)\n",
    "\n",
    "    def reducer(self, key, values):\n",
    "        values = list(values)\n",
    "        yield key, {\"low\":min(values),\"high\":max(values),\"count\":len(values)}\n",
    "\n",
    "if __name__ == '__main__':\n",
    "    DetailTemperature.run()"
   ]
  },
  {
   "cell_type": "code",
   "execution_count": 91,
   "id": "fa35193a",
   "metadata": {},
   "outputs": [
    {
     "name": "stdout",
     "output_type": "stream",
     "text": [
      "110\t{\"low\":-239,\"high\":278,\"count\":296}\n",
      "140\t{\"low\":-328,\"high\":278,\"count\":1005}\n",
      "160\t{\"low\":-239,\"high\":289,\"count\":647}\n",
      "180\t{\"low\":-250,\"high\":294,\"count\":879}\n",
      "20\t{\"low\":-272,\"high\":317,\"count\":582}\n",
      "200\t{\"low\":-183,\"high\":300,\"count\":688}\n",
      "230\t{\"low\":-228,\"high\":283,\"count\":1488}\n",
      "250\t{\"low\":-222,\"high\":311,\"count\":604}\n",
      "270\t{\"low\":-211,\"high\":278,\"count\":931}\n",
      "290\t{\"low\":-328,\"high\":306,\"count\":379}\n",
      "320\t{\"low\":-311,\"high\":306,\"count\":1152}\n",
      "340\t{\"low\":-300,\"high\":311,\"count\":427}\n",
      "360\t{\"low\":-267,\"high\":289,\"count\":888}\n",
      "50\t{\"low\":-322,\"high\":306,\"count\":1039}\n",
      "70\t{\"low\":-333,\"high\":278,\"count\":502}\n",
      "90\t{\"low\":-267,\"high\":272,\"count\":567}\n"
     ]
    },
    {
     "name": "stderr",
     "output_type": "stream",
     "text": [
      "No configs found; falling back on auto-configuration\n",
      "No configs specified for inline runner\n",
      "Creating temp directory C:\\Users\\User\\AppData\\Local\\Temp\\detail_temperature.User.20230304.152531.363714\n",
      "Running step 1 of 1...\n",
      "job output is in C:\\Users\\User\\AppData\\Local\\Temp\\detail_temperature.User.20230304.152531.363714\\output\n",
      "Streaming final output from C:\\Users\\User\\AppData\\Local\\Temp\\detail_temperature.User.20230304.152531.363714\\output...\n",
      "Removing temp directory C:\\Users\\User\\AppData\\Local\\Temp\\detail_temperature.User.20230304.152531.363714...\n"
     ]
    }
   ],
   "source": [
    "!python detail_temperature.py 1901 1902"
   ]
  }
 ],
 "metadata": {
  "kernelspec": {
   "display_name": "Python 3 (ipykernel)",
   "language": "python",
   "name": "python3"
  },
  "language_info": {
   "codemirror_mode": {
    "name": "ipython",
    "version": 3
   },
   "file_extension": ".py",
   "mimetype": "text/x-python",
   "name": "python",
   "nbconvert_exporter": "python",
   "pygments_lexer": "ipython3",
   "version": "3.10.9"
  }
 },
 "nbformat": 4,
 "nbformat_minor": 5
}
